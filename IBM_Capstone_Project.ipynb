{
 "cells": [
  {
   "cell_type": "markdown",
   "metadata": {},
   "source": [
    "# IBM Data Science Course Capstone Project"
   ]
  },
  {
   "cell_type": "markdown",
   "metadata": {},
   "source": [
    "\n",
    "### 1. Team clustering \n",
    "### 1.1 Players stats and bio info\n",
    "\n",
    "Stats: \n",
    "\n",
    "Bio info:\n",
    "\n",
    "### 1.2 Team stats\n",
    "\n",
    "Stats: Pace, Off/Def Rtg, FGM, FG3M, FTM\n",
    "\n",
    "\n",
    "### 2. Team style change from 1990 to 2020\n",
    "### 3. Game style change from 1990 to 2020\n",
    "### 4. Project record of NBA teams and championship\n"
   ]
  },
  {
   "cell_type": "code",
   "execution_count": 3,
   "metadata": {},
   "outputs": [],
   "source": [
    "# import necessary libraries for data analysis and visulization\n",
    "\n",
    "import pandas as pd\n",
    "import numpy as np\n",
    "import seaborn as sns\n",
    "import matplotlib.pyplot as plt\n",
    "from scipy import stats"
   ]
  },
  {
   "cell_type": "markdown",
   "metadata": {},
   "source": [
    "Use nba_api to obtain stats from stats.nba.com \n",
    "\n",
    "The nba_api can be accessed through https://github.com/swar/nba_api\n",
    "\n",
    "Development Version: v1.1.8\n",
    "\n",
    "MIT License\n",
    "\n",
    "Copyright (c) 2018 Swar Patel\n",
    "\n",
    "Permission is hereby granted, free of charge, to any person obtaining a copy\n",
    "of this software and associated documentation files (the \"Software\"), to deal\n",
    "in the Software without restriction, including without limitation the rights\n",
    "to use, copy, modify, merge, publish, distribute, sublicense, and/or sell\n",
    "copies of the Software, and to permit persons to whom the Software is\n",
    "furnished to do so, subject to the following conditions:\n",
    "\n",
    "The above copyright notice and this permission notice shall be included in all\n",
    "copies or substantial portions of the Software.\n",
    "\n",
    "THE SOFTWARE IS PROVIDED \"AS IS\", WITHOUT WARRANTY OF ANY KIND, EXPRESS OR\n",
    "IMPLIED, INCLUDING BUT NOT LIMITED TO THE WARRANTIES OF MERCHANTABILITY,\n",
    "FITNESS FOR A PARTICULAR PURPOSE AND NONINFRINGEMENT. IN NO EVENT SHALL THE\n",
    "AUTHORS OR COPYRIGHT HOLDERS BE LIABLE FOR ANY CLAIM, DAMAGES OR OTHER\n",
    "LIABILITY, WHETHER IN AN ACTION OF CONTRACT, TORT OR OTHERWISE, ARISING FROM,\n",
    "OUT OF OR IN CONNECTION WITH THE SOFTWARE OR THE USE OR OTHER DEALINGS IN THE\n",
    "SOFTWARE."
   ]
  },
  {
   "cell_type": "code",
   "execution_count": 99,
   "metadata": {},
   "outputs": [
    {
     "name": "stdout",
     "output_type": "stream",
     "text": [
      "Requirement already satisfied: nba_api in /opt/anaconda3/lib/python3.7/site-packages (1.1.8)\n",
      "Requirement already satisfied: requests in /opt/anaconda3/lib/python3.7/site-packages (from nba_api) (2.22.0)\n",
      "Requirement already satisfied: idna<2.9,>=2.5 in /opt/anaconda3/lib/python3.7/site-packages (from requests->nba_api) (2.8)\n",
      "Requirement already satisfied: certifi>=2017.4.17 in /opt/anaconda3/lib/python3.7/site-packages (from requests->nba_api) (2019.9.11)\n",
      "Requirement already satisfied: chardet<3.1.0,>=3.0.2 in /opt/anaconda3/lib/python3.7/site-packages (from requests->nba_api) (3.0.4)\n",
      "Requirement already satisfied: urllib3!=1.25.0,!=1.25.1,<1.26,>=1.21.1 in /opt/anaconda3/lib/python3.7/site-packages (from requests->nba_api) (1.24.2)\n"
     ]
    }
   ],
   "source": [
    "! pip install nba_api"
   ]
  },
  {
   "cell_type": "markdown",
   "metadata": {},
   "source": [
    "### Import all 30 NBA teams and store into a df nba_teams, save as nba_teams.csv\n",
    "\n",
    "Columns: 'id', 'full_name', 'abbreviation', 'nickname', 'city', 'state', 'year_founded'"
   ]
  },
  {
   "cell_type": "code",
   "execution_count": 9,
   "metadata": {
    "scrolled": true
   },
   "outputs": [],
   "source": [
    "from nba_api.stats.static import teams\n",
    "\n",
    "# get_teams returns a list of 30 dictionaries, each an NBA team.\n",
    "nba_teams = teams.get_teams()\n",
    "nba_teams = pd.DataFrame(nba_teams)\n",
    "nba_teams.to_csv('nba_teams.csv')\n",
    "\n",
    "# Correct 'city' for teams\n",
    "wrong_city = ['Golden State',  'Minnesota',  'Indiana',     'Utah',          'Washington']\n",
    "right_city = ['San Francisco', 'Minneapolis','Indianapolis','Salt Lake City','Washington, D.C.']\n",
    "nba_teams['city'].replace(to_replace=wrong_city, value=right_city, inplace=True)\n",
    "\n",
    "# Correct 'city' for teams\n",
    "wrong_state = ['Atlanta']\n",
    "right_state = ['Georgia']\n",
    "nba_teams['state'].replace(to_replace=wrong_state, value=right_state, inplace=True)"
   ]
  },
  {
   "cell_type": "code",
   "execution_count": null,
   "metadata": {},
   "outputs": [],
   "source": [
    "nba_teams= pd.read_csv('nba_teams.csv')"
   ]
  },
  {
   "cell_type": "code",
   "execution_count": 103,
   "metadata": {},
   "outputs": [
    {
     "data": {
      "text/html": [
       "<div>\n",
       "<style scoped>\n",
       "    .dataframe tbody tr th:only-of-type {\n",
       "        vertical-align: middle;\n",
       "    }\n",
       "\n",
       "    .dataframe tbody tr th {\n",
       "        vertical-align: top;\n",
       "    }\n",
       "\n",
       "    .dataframe thead th {\n",
       "        text-align: right;\n",
       "    }\n",
       "</style>\n",
       "<table border=\"1\" class=\"dataframe\">\n",
       "  <thead>\n",
       "    <tr style=\"text-align: right;\">\n",
       "      <th></th>\n",
       "      <th>id</th>\n",
       "      <th>full_name</th>\n",
       "      <th>abbreviation</th>\n",
       "      <th>nickname</th>\n",
       "      <th>city</th>\n",
       "      <th>state</th>\n",
       "      <th>year_founded</th>\n",
       "    </tr>\n",
       "  </thead>\n",
       "  <tbody>\n",
       "    <tr>\n",
       "      <td>0</td>\n",
       "      <td>1610612737</td>\n",
       "      <td>Atlanta Hawks</td>\n",
       "      <td>ATL</td>\n",
       "      <td>Hawks</td>\n",
       "      <td>Atlanta</td>\n",
       "      <td>Georgia</td>\n",
       "      <td>1949</td>\n",
       "    </tr>\n",
       "    <tr>\n",
       "      <td>1</td>\n",
       "      <td>1610612738</td>\n",
       "      <td>Boston Celtics</td>\n",
       "      <td>BOS</td>\n",
       "      <td>Celtics</td>\n",
       "      <td>Boston</td>\n",
       "      <td>Massachusetts</td>\n",
       "      <td>1946</td>\n",
       "    </tr>\n",
       "    <tr>\n",
       "      <td>2</td>\n",
       "      <td>1610612739</td>\n",
       "      <td>Cleveland Cavaliers</td>\n",
       "      <td>CLE</td>\n",
       "      <td>Cavaliers</td>\n",
       "      <td>Cleveland</td>\n",
       "      <td>Ohio</td>\n",
       "      <td>1970</td>\n",
       "    </tr>\n",
       "    <tr>\n",
       "      <td>3</td>\n",
       "      <td>1610612740</td>\n",
       "      <td>New Orleans Pelicans</td>\n",
       "      <td>NOP</td>\n",
       "      <td>Pelicans</td>\n",
       "      <td>New Orleans</td>\n",
       "      <td>Louisiana</td>\n",
       "      <td>2002</td>\n",
       "    </tr>\n",
       "    <tr>\n",
       "      <td>4</td>\n",
       "      <td>1610612741</td>\n",
       "      <td>Chicago Bulls</td>\n",
       "      <td>CHI</td>\n",
       "      <td>Bulls</td>\n",
       "      <td>Chicago</td>\n",
       "      <td>Illinois</td>\n",
       "      <td>1966</td>\n",
       "    </tr>\n",
       "    <tr>\n",
       "      <td>5</td>\n",
       "      <td>1610612742</td>\n",
       "      <td>Dallas Mavericks</td>\n",
       "      <td>DAL</td>\n",
       "      <td>Mavericks</td>\n",
       "      <td>Dallas</td>\n",
       "      <td>Texas</td>\n",
       "      <td>1980</td>\n",
       "    </tr>\n",
       "    <tr>\n",
       "      <td>6</td>\n",
       "      <td>1610612743</td>\n",
       "      <td>Denver Nuggets</td>\n",
       "      <td>DEN</td>\n",
       "      <td>Nuggets</td>\n",
       "      <td>Denver</td>\n",
       "      <td>Colorado</td>\n",
       "      <td>1976</td>\n",
       "    </tr>\n",
       "    <tr>\n",
       "      <td>7</td>\n",
       "      <td>1610612744</td>\n",
       "      <td>Golden State Warriors</td>\n",
       "      <td>GSW</td>\n",
       "      <td>Warriors</td>\n",
       "      <td>San Francisco</td>\n",
       "      <td>California</td>\n",
       "      <td>1946</td>\n",
       "    </tr>\n",
       "    <tr>\n",
       "      <td>8</td>\n",
       "      <td>1610612745</td>\n",
       "      <td>Houston Rockets</td>\n",
       "      <td>HOU</td>\n",
       "      <td>Rockets</td>\n",
       "      <td>Houston</td>\n",
       "      <td>Texas</td>\n",
       "      <td>1967</td>\n",
       "    </tr>\n",
       "    <tr>\n",
       "      <td>9</td>\n",
       "      <td>1610612746</td>\n",
       "      <td>Los Angeles Clippers</td>\n",
       "      <td>LAC</td>\n",
       "      <td>Clippers</td>\n",
       "      <td>Los Angeles</td>\n",
       "      <td>California</td>\n",
       "      <td>1970</td>\n",
       "    </tr>\n",
       "    <tr>\n",
       "      <td>10</td>\n",
       "      <td>1610612747</td>\n",
       "      <td>Los Angeles Lakers</td>\n",
       "      <td>LAL</td>\n",
       "      <td>Lakers</td>\n",
       "      <td>Los Angeles</td>\n",
       "      <td>California</td>\n",
       "      <td>1948</td>\n",
       "    </tr>\n",
       "    <tr>\n",
       "      <td>11</td>\n",
       "      <td>1610612748</td>\n",
       "      <td>Miami Heat</td>\n",
       "      <td>MIA</td>\n",
       "      <td>Heat</td>\n",
       "      <td>Miami</td>\n",
       "      <td>Florida</td>\n",
       "      <td>1988</td>\n",
       "    </tr>\n",
       "    <tr>\n",
       "      <td>12</td>\n",
       "      <td>1610612749</td>\n",
       "      <td>Milwaukee Bucks</td>\n",
       "      <td>MIL</td>\n",
       "      <td>Bucks</td>\n",
       "      <td>Milwaukee</td>\n",
       "      <td>Wisconsin</td>\n",
       "      <td>1968</td>\n",
       "    </tr>\n",
       "    <tr>\n",
       "      <td>13</td>\n",
       "      <td>1610612750</td>\n",
       "      <td>Minnesota Timberwolves</td>\n",
       "      <td>MIN</td>\n",
       "      <td>Timberwolves</td>\n",
       "      <td>Minneapolis</td>\n",
       "      <td>Minnesota</td>\n",
       "      <td>1989</td>\n",
       "    </tr>\n",
       "    <tr>\n",
       "      <td>14</td>\n",
       "      <td>1610612751</td>\n",
       "      <td>Brooklyn Nets</td>\n",
       "      <td>BKN</td>\n",
       "      <td>Nets</td>\n",
       "      <td>Brooklyn</td>\n",
       "      <td>New York</td>\n",
       "      <td>1976</td>\n",
       "    </tr>\n",
       "    <tr>\n",
       "      <td>15</td>\n",
       "      <td>1610612752</td>\n",
       "      <td>New York Knicks</td>\n",
       "      <td>NYK</td>\n",
       "      <td>Knicks</td>\n",
       "      <td>New York</td>\n",
       "      <td>New York</td>\n",
       "      <td>1946</td>\n",
       "    </tr>\n",
       "    <tr>\n",
       "      <td>16</td>\n",
       "      <td>1610612753</td>\n",
       "      <td>Orlando Magic</td>\n",
       "      <td>ORL</td>\n",
       "      <td>Magic</td>\n",
       "      <td>Orlando</td>\n",
       "      <td>Florida</td>\n",
       "      <td>1989</td>\n",
       "    </tr>\n",
       "    <tr>\n",
       "      <td>17</td>\n",
       "      <td>1610612754</td>\n",
       "      <td>Indiana Pacers</td>\n",
       "      <td>IND</td>\n",
       "      <td>Pacers</td>\n",
       "      <td>Indianapolis</td>\n",
       "      <td>Indiana</td>\n",
       "      <td>1976</td>\n",
       "    </tr>\n",
       "    <tr>\n",
       "      <td>18</td>\n",
       "      <td>1610612755</td>\n",
       "      <td>Philadelphia 76ers</td>\n",
       "      <td>PHI</td>\n",
       "      <td>76ers</td>\n",
       "      <td>Philadelphia</td>\n",
       "      <td>Pennsylvania</td>\n",
       "      <td>1949</td>\n",
       "    </tr>\n",
       "    <tr>\n",
       "      <td>19</td>\n",
       "      <td>1610612756</td>\n",
       "      <td>Phoenix Suns</td>\n",
       "      <td>PHX</td>\n",
       "      <td>Suns</td>\n",
       "      <td>Phoenix</td>\n",
       "      <td>Arizona</td>\n",
       "      <td>1968</td>\n",
       "    </tr>\n",
       "    <tr>\n",
       "      <td>20</td>\n",
       "      <td>1610612757</td>\n",
       "      <td>Portland Trail Blazers</td>\n",
       "      <td>POR</td>\n",
       "      <td>Trail Blazers</td>\n",
       "      <td>Portland</td>\n",
       "      <td>Oregon</td>\n",
       "      <td>1970</td>\n",
       "    </tr>\n",
       "    <tr>\n",
       "      <td>21</td>\n",
       "      <td>1610612758</td>\n",
       "      <td>Sacramento Kings</td>\n",
       "      <td>SAC</td>\n",
       "      <td>Kings</td>\n",
       "      <td>Sacramento</td>\n",
       "      <td>California</td>\n",
       "      <td>1948</td>\n",
       "    </tr>\n",
       "    <tr>\n",
       "      <td>22</td>\n",
       "      <td>1610612759</td>\n",
       "      <td>San Antonio Spurs</td>\n",
       "      <td>SAS</td>\n",
       "      <td>Spurs</td>\n",
       "      <td>San Antonio</td>\n",
       "      <td>Texas</td>\n",
       "      <td>1976</td>\n",
       "    </tr>\n",
       "    <tr>\n",
       "      <td>23</td>\n",
       "      <td>1610612760</td>\n",
       "      <td>Oklahoma City Thunder</td>\n",
       "      <td>OKC</td>\n",
       "      <td>Thunder</td>\n",
       "      <td>Oklahoma City</td>\n",
       "      <td>Oklahoma</td>\n",
       "      <td>1967</td>\n",
       "    </tr>\n",
       "    <tr>\n",
       "      <td>24</td>\n",
       "      <td>1610612761</td>\n",
       "      <td>Toronto Raptors</td>\n",
       "      <td>TOR</td>\n",
       "      <td>Raptors</td>\n",
       "      <td>Toronto</td>\n",
       "      <td>Ontario</td>\n",
       "      <td>1995</td>\n",
       "    </tr>\n",
       "    <tr>\n",
       "      <td>25</td>\n",
       "      <td>1610612762</td>\n",
       "      <td>Utah Jazz</td>\n",
       "      <td>UTA</td>\n",
       "      <td>Jazz</td>\n",
       "      <td>Salt Lake City</td>\n",
       "      <td>Utah</td>\n",
       "      <td>1974</td>\n",
       "    </tr>\n",
       "    <tr>\n",
       "      <td>26</td>\n",
       "      <td>1610612763</td>\n",
       "      <td>Memphis Grizzlies</td>\n",
       "      <td>MEM</td>\n",
       "      <td>Grizzlies</td>\n",
       "      <td>Memphis</td>\n",
       "      <td>Tennessee</td>\n",
       "      <td>1995</td>\n",
       "    </tr>\n",
       "    <tr>\n",
       "      <td>27</td>\n",
       "      <td>1610612764</td>\n",
       "      <td>Washington Wizards</td>\n",
       "      <td>WAS</td>\n",
       "      <td>Wizards</td>\n",
       "      <td>Washington, D.C.</td>\n",
       "      <td>District of Columbia</td>\n",
       "      <td>1961</td>\n",
       "    </tr>\n",
       "    <tr>\n",
       "      <td>28</td>\n",
       "      <td>1610612765</td>\n",
       "      <td>Detroit Pistons</td>\n",
       "      <td>DET</td>\n",
       "      <td>Pistons</td>\n",
       "      <td>Detroit</td>\n",
       "      <td>Michigan</td>\n",
       "      <td>1948</td>\n",
       "    </tr>\n",
       "    <tr>\n",
       "      <td>29</td>\n",
       "      <td>1610612766</td>\n",
       "      <td>Charlotte Hornets</td>\n",
       "      <td>CHA</td>\n",
       "      <td>Hornets</td>\n",
       "      <td>Charlotte</td>\n",
       "      <td>North Carolina</td>\n",
       "      <td>1988</td>\n",
       "    </tr>\n",
       "  </tbody>\n",
       "</table>\n",
       "</div>"
      ],
      "text/plain": [
       "            id               full_name abbreviation       nickname  \\\n",
       "0   1610612737           Atlanta Hawks          ATL          Hawks   \n",
       "1   1610612738          Boston Celtics          BOS        Celtics   \n",
       "2   1610612739     Cleveland Cavaliers          CLE      Cavaliers   \n",
       "3   1610612740    New Orleans Pelicans          NOP       Pelicans   \n",
       "4   1610612741           Chicago Bulls          CHI          Bulls   \n",
       "5   1610612742        Dallas Mavericks          DAL      Mavericks   \n",
       "6   1610612743          Denver Nuggets          DEN        Nuggets   \n",
       "7   1610612744   Golden State Warriors          GSW       Warriors   \n",
       "8   1610612745         Houston Rockets          HOU        Rockets   \n",
       "9   1610612746    Los Angeles Clippers          LAC       Clippers   \n",
       "10  1610612747      Los Angeles Lakers          LAL         Lakers   \n",
       "11  1610612748              Miami Heat          MIA           Heat   \n",
       "12  1610612749         Milwaukee Bucks          MIL          Bucks   \n",
       "13  1610612750  Minnesota Timberwolves          MIN   Timberwolves   \n",
       "14  1610612751           Brooklyn Nets          BKN           Nets   \n",
       "15  1610612752         New York Knicks          NYK         Knicks   \n",
       "16  1610612753           Orlando Magic          ORL          Magic   \n",
       "17  1610612754          Indiana Pacers          IND         Pacers   \n",
       "18  1610612755      Philadelphia 76ers          PHI          76ers   \n",
       "19  1610612756            Phoenix Suns          PHX           Suns   \n",
       "20  1610612757  Portland Trail Blazers          POR  Trail Blazers   \n",
       "21  1610612758        Sacramento Kings          SAC          Kings   \n",
       "22  1610612759       San Antonio Spurs          SAS          Spurs   \n",
       "23  1610612760   Oklahoma City Thunder          OKC        Thunder   \n",
       "24  1610612761         Toronto Raptors          TOR        Raptors   \n",
       "25  1610612762               Utah Jazz          UTA           Jazz   \n",
       "26  1610612763       Memphis Grizzlies          MEM      Grizzlies   \n",
       "27  1610612764      Washington Wizards          WAS        Wizards   \n",
       "28  1610612765         Detroit Pistons          DET        Pistons   \n",
       "29  1610612766       Charlotte Hornets          CHA        Hornets   \n",
       "\n",
       "                city                 state  year_founded  \n",
       "0            Atlanta               Georgia          1949  \n",
       "1             Boston         Massachusetts          1946  \n",
       "2          Cleveland                  Ohio          1970  \n",
       "3        New Orleans             Louisiana          2002  \n",
       "4            Chicago              Illinois          1966  \n",
       "5             Dallas                 Texas          1980  \n",
       "6             Denver              Colorado          1976  \n",
       "7      San Francisco            California          1946  \n",
       "8            Houston                 Texas          1967  \n",
       "9        Los Angeles            California          1970  \n",
       "10       Los Angeles            California          1948  \n",
       "11             Miami               Florida          1988  \n",
       "12         Milwaukee             Wisconsin          1968  \n",
       "13       Minneapolis             Minnesota          1989  \n",
       "14          Brooklyn              New York          1976  \n",
       "15          New York              New York          1946  \n",
       "16           Orlando               Florida          1989  \n",
       "17      Indianapolis               Indiana          1976  \n",
       "18      Philadelphia          Pennsylvania          1949  \n",
       "19           Phoenix               Arizona          1968  \n",
       "20          Portland                Oregon          1970  \n",
       "21        Sacramento            California          1948  \n",
       "22       San Antonio                 Texas          1976  \n",
       "23     Oklahoma City              Oklahoma          1967  \n",
       "24           Toronto               Ontario          1995  \n",
       "25    Salt Lake City                  Utah          1974  \n",
       "26           Memphis             Tennessee          1995  \n",
       "27  Washington, D.C.  District of Columbia          1961  \n",
       "28           Detroit              Michigan          1948  \n",
       "29         Charlotte        North Carolina          1988  "
      ]
     },
     "execution_count": 103,
     "metadata": {},
     "output_type": "execute_result"
    }
   ],
   "source": [
    "nba_teams"
   ]
  },
  {
   "cell_type": "markdown",
   "metadata": {},
   "source": [
    "### Import all NBA players (current and retired) and store into a df nba_players, save as nba_players.csv\n",
    "\n",
    "Columns: 'id', 'full_name', 'first_name', 'last_name', 'is_active'"
   ]
  },
  {
   "cell_type": "code",
   "execution_count": 101,
   "metadata": {
    "scrolled": true
   },
   "outputs": [],
   "source": [
    "from nba_api.stats.static import players\n",
    "# get_players returns a list of dictionaries, each representing a player.\n",
    "nba_players = players.get_players()\n",
    "nba_players = pd.DataFrame(nba_players)\n",
    "nba_players.to_csv('nba_players.csv')"
   ]
  },
  {
   "cell_type": "code",
   "execution_count": null,
   "metadata": {},
   "outputs": [],
   "source": [
    "nba_players = pd.read_csv('nba_players.csv')"
   ]
  },
  {
   "cell_type": "markdown",
   "metadata": {},
   "source": [
    "### Import Utah Jazz team roster and store into a df utah_roster\n"
   ]
  },
  {
   "cell_type": "code",
   "execution_count": 104,
   "metadata": {
    "scrolled": true
   },
   "outputs": [],
   "source": [
    "from nba_api.stats.endpoints import commonteamroster\n",
    "utah_id = 1610612762\n",
    "roster_finder = commonteamroster.CommonTeamRoster(season = '2019-20', team_id=utah_id)\n",
    "utah_roster = roster_finder.common_team_roster.get_data_frame()"
   ]
  },
  {
   "cell_type": "markdown",
   "metadata": {},
   "source": [
    "### Import all NBA players (current and retired) draft combine stats (if exist) and store into a df draft_combine_stats, save as draft_combine_stats.csv\n",
    "\n",
    "Columns: \n",
    "\n",
    "'PLAYER_ID', 'PLAYER_NAME', 'SEASON', \n",
    "\n",
    "'HEIGHT_WO_SHOES', 'WEIGHT', 'WINGSPAN', 'STANDING_REACH', \n",
    "\n",
    "'STANDING_VERTICAL_LEAP', 'MAX_VERTICAL_LEAP', 'LANE_AGILITY_TIME', 'THREE_QUARTER_SPRINT', 'BENCH_PRESS'"
   ]
  },
  {
   "cell_type": "code",
   "execution_count": 105,
   "metadata": {},
   "outputs": [],
   "source": [
    "from nba_api.stats.endpoints import DraftCombineStats\n",
    "\n",
    "# Important feasures: \n",
    "body = ['PLAYER_ID','PLAYER_NAME', 'SEASON', 'HEIGHT_WO_SHOES', 'WEIGHT', 'WINGSPAN', 'STANDING_REACH', \\\n",
    "        'STANDING_VERTICAL_LEAP', 'MAX_VERTICAL_LEAP',\\\n",
    "        'LANE_AGILITY_TIME','THREE_QUARTER_SPRINT', 'BENCH_PRESS']\n",
    "\n",
    "draft_combine_stats = DraftCombineStats(season_all_time='All Time').get_data_frames()[0]\n",
    "draft_combine_stats = draft_combine_stats[body]\n",
    "draft_combine_stats.to_csv('draft_combine_stats.csv')"
   ]
  },
  {
   "cell_type": "code",
   "execution_count": null,
   "metadata": {},
   "outputs": [],
   "source": [
    "draft_combine_stats = pd.read_csv('draft_combine_stats.csv')"
   ]
  },
  {
   "cell_type": "code",
   "execution_count": 106,
   "metadata": {
    "scrolled": true
   },
   "outputs": [],
   "source": [
    "# Import player awards\n",
    "from nba_api.stats.endpoints import playerawards\n",
    "\n",
    "# Find player_id\n",
    "player_id = nba_players[nba_players['full_name']=='Karl Malone']['id']\n",
    "\n",
    "playerawards_finder = playerawards.PlayerAwards(player_id=player_id)\n",
    "\n",
    "player_awards = playerawards_finder.player_awards.get_data_frame()"
   ]
  },
  {
   "cell_type": "markdown",
   "metadata": {},
   "source": [
    "### Merge nba_player and draft_combine_stats, select active players as nba_players_active\n",
    "\n",
    "Only use important features:  \n",
    "\n",
    "'HEIGHT_WO_SHOES', 'WEIGHT', 'WINGSPAN', 'STANDING_REACH', \n",
    "\n",
    "'STANDING_VERTICAL_LEAP', 'MAX_VERTICAL_LEAP', 'LANE_AGILITY_TIME', 'THREE_QUARTER_SPRINT', 'BENCH_PRESS'"
   ]
  },
  {
   "cell_type": "code",
   "execution_count": null,
   "metadata": {
    "scrolled": true
   },
   "outputs": [],
   "source": [
    "nba_players_draft_combine_stats = pd.merge(nba_players, draft_combine_stats, left_on='id', right_on='PLAYER_ID', how='left')\n",
    "nba_players_draft_combine_stats.drop(['PLAYER_ID','PLAYER_NAME'],1,inplace=True)\n",
    "\n",
    "nba_players_active = nba_players_draft_combine_stats[ nba_players_draft_combine_stats['is_active']==True ]"
   ]
  },
  {
   "cell_type": "markdown",
   "metadata": {},
   "source": [
    "### Import player game defensive stats"
   ]
  },
  {
   "cell_type": "code",
   "execution_count": 107,
   "metadata": {
    "scrolled": true
   },
   "outputs": [],
   "source": [
    "from nba_api.stats.endpoints import boxscoredefensive\n",
    "\n",
    "features = ['GAME_ID', 'TEAM_ID', 'TEAM_ABBREVIATION','PLAYER_ID', 'PLAYER_NAME',\\\n",
    "            'MATCHUP_MIN','PARTIAL_POSS', 'SWITCHES_ON', 'PLAYER_PTS', 'DREB',\\\n",
    "            'MATCHUP_AST','MATCHUP_TOV', 'STL', 'BLK', 'MATCHUP_FGM', 'MATCHUP_FGA',\n",
    "            'MATCHUP_FG_PCT', 'MATCHUP_FG3M', 'MATCHUP_FG3A', 'MATCHUP_FG3_PCT']\n",
    "\n",
    "rudy_gobert_id = 203497\n",
    "\n",
    "boxscoredefensive_finder = boxscoredefensive.BoxScoreDefensive(game_id='0021900816')\n",
    "defensive_stats = boxscoredefensive_finder.player_defensive_stats.get_data_frame()\n",
    "\n",
    "defensive_stats_gobert = defensive_stats[ defensive_stats['PLAYER_ID']==rudy_gobert_id]\n",
    "defensive_stats_gobert = defensive_stats_gobert[features]"
   ]
  },
  {
   "cell_type": "markdown",
   "metadata": {},
   "source": [
    "### Import Utah Jazz team stats, Season 2019-20"
   ]
  },
  {
   "cell_type": "code",
   "execution_count": 110,
   "metadata": {
    "scrolled": true
   },
   "outputs": [],
   "source": [
    "from nba_api.stats.endpoints import teamgamelogs\n",
    "\n",
    "# seanson_range = list(range(2020,2009,-1))\n",
    "season = '2019-20'\n",
    "season_type = 'Regular Season'\n",
    "\n",
    "teamgamelogs_finder = teamgamelogs.TeamGameLogs(season_nullable=season, season_type_nullable=season_type, team_id_nullable=utah_id)\n",
    "utah_gamelog_2019_20 = teamgamelogs_finder.team_game_logs.get_data_frame()\n",
    "\n",
    "utah_gamelog_2019_20.to_csv('utah_gamelog_2019_20.csv')\n",
    "\n",
    "features = 'FGM', 'FGA', 'FG_PCT', 'FG3M', 'FG3A', 'FG3_PCT', 'FTM', 'FTA',\\\n",
    "           'FT_PCT', 'OREB', 'DREB', 'REB', 'AST', 'STL', 'BLK', 'TOV', 'PF', 'PTS'"
   ]
  },
  {
   "cell_type": "markdown",
   "metadata": {},
   "source": [
    "### Import all NBA team stats, Season 2019-20"
   ]
  },
  {
   "cell_type": "code",
   "execution_count": 8,
   "metadata": {
    "scrolled": true
   },
   "outputs": [
    {
     "ename": "NameError",
     "evalue": "name 'nba_teams' is not defined",
     "output_type": "error",
     "traceback": [
      "\u001b[0;31m---------------------------------------------------------------------------\u001b[0m",
      "\u001b[0;31mNameError\u001b[0m                                 Traceback (most recent call last)",
      "\u001b[0;32m<ipython-input-8-1a5452ba9a8f>\u001b[0m in \u001b[0;36m<module>\u001b[0;34m\u001b[0m\n\u001b[1;32m      4\u001b[0m \u001b[0mseason\u001b[0m \u001b[0;34m=\u001b[0m \u001b[0;34m'2019-20'\u001b[0m\u001b[0;34m\u001b[0m\u001b[0;34m\u001b[0m\u001b[0m\n\u001b[1;32m      5\u001b[0m \u001b[0mseason_type\u001b[0m \u001b[0;34m=\u001b[0m \u001b[0;34m'Regular Season'\u001b[0m\u001b[0;34m\u001b[0m\u001b[0;34m\u001b[0m\u001b[0m\n\u001b[0;32m----> 6\u001b[0;31m \u001b[0mteam_id_all\u001b[0m \u001b[0;34m=\u001b[0m \u001b[0mnba_teams\u001b[0m\u001b[0;34m[\u001b[0m\u001b[0;34m'id'\u001b[0m\u001b[0;34m]\u001b[0m\u001b[0;34m\u001b[0m\u001b[0;34m\u001b[0m\u001b[0m\n\u001b[0m\u001b[1;32m      7\u001b[0m \u001b[0mallteam_gamelog_2019_20\u001b[0m \u001b[0;34m=\u001b[0m \u001b[0mpd\u001b[0m\u001b[0;34m.\u001b[0m\u001b[0mDataFrame\u001b[0m\u001b[0;34m(\u001b[0m\u001b[0;34m)\u001b[0m\u001b[0;34m\u001b[0m\u001b[0;34m\u001b[0m\u001b[0m\n\u001b[1;32m      8\u001b[0m \u001b[0;34m\u001b[0m\u001b[0m\n",
      "\u001b[0;31mNameError\u001b[0m: name 'nba_teams' is not defined"
     ]
    }
   ],
   "source": [
    "from nba_api.stats.endpoints import teamgamelogs\n",
    "\n",
    "# seanson_range = list(range(2020,2009,-1))\n",
    "season = '2019-20'\n",
    "season_type = 'Regular Season'\n",
    "team_id_all = nba_teams['id']\n",
    "allteam_gamelog_2019_20 = pd.DataFrame()\n",
    "\n",
    "for team_id in team_id_all:\n",
    "    teamgamelogs_finder = teamgamelogs.TeamGameLogs(season_nullable=season, season_type_nullable=season_type, team_id_nullable=team_id)\n",
    "    gamelog_2019_20 = teamgamelogs_finder.team_game_logs.get_data_frame()\n",
    "    allteam_gamelog_2019_20 = allteam_gamelog_2019_20.append(gamelog_2019_20)\n",
    "    \n",
    "# utah_gamelog_2019_20.to_csv('utah_gamelog_2019_20.csv')\n",
    "\n",
    "features = 'FGM', 'FGA', 'FG_PCT', 'FG3M', 'FG3A', 'FG3_PCT', 'FTM', 'FTA',\\\n",
    "           'FT_PCT', 'OREB', 'DREB', 'REB', 'AST', 'STL', 'BLK', 'TOV', 'PF', 'PTS'"
   ]
  },
  {
   "cell_type": "code",
   "execution_count": null,
   "metadata": {},
   "outputs": [],
   "source": [
    "allteam_gamelog_2019_20.to_csv('allteam_gamelog_2019_20.csv')"
   ]
  },
  {
   "cell_type": "code",
   "execution_count": 16,
   "metadata": {},
   "outputs": [],
   "source": [
    "allteam_gamelog_2019_20 = pd.read_csv('allteam_gamelog_2019_20.csv',converters={'GAME_ID': str})"
   ]
  },
  {
   "cell_type": "markdown",
   "metadata": {},
   "source": [
    "### Import Utah Jazz player boxscore stats, Season 2019-20"
   ]
  },
  {
   "cell_type": "code",
   "execution_count": null,
   "metadata": {
    "scrolled": true
   },
   "outputs": [],
   "source": [
    "from nba_api.stats.endpoints import boxscoretraditionalv2\n",
    "\n",
    "utah_game_id_2019_20 = utah_gamelog_2019_20['GAME_ID']\n",
    "utah_box_players = pd.DataFrame()\n",
    "\n",
    "for game_id in utah_game_id_2019_20:\n",
    "    boxscoretraditional_finder = boxscoretraditionalv2.BoxScoreTraditionalV2(game_id=game_id)\n",
    "    boxscore = boxscoretraditional_finder.player_stats.get_data_frame()\n",
    "    utah_box_players = utah_box_players.append(boxscore[boxscore.TEAM_ID==utah_id])"
   ]
  },
  {
   "cell_type": "code",
   "execution_count": null,
   "metadata": {},
   "outputs": [],
   "source": [
    "utah_box_players.to_csv('utah_box_players_2019_20.csv')"
   ]
  },
  {
   "cell_type": "code",
   "execution_count": null,
   "metadata": {},
   "outputs": [],
   "source": [
    "utah_box_players = pd.read_csv('utah_box_players_2019_20.csv')"
   ]
  },
  {
   "cell_type": "markdown",
   "metadata": {},
   "source": [
    "### Import Utah Jazz players avanced boxscore stats, Season 2019-20"
   ]
  },
  {
   "cell_type": "code",
   "execution_count": null,
   "metadata": {
    "scrolled": true
   },
   "outputs": [],
   "source": [
    "from nba_api.stats.endpoints import boxscoreadvancedv2\n",
    "\n",
    "utah_game_id_2019_20 = utah_gamelog_2019_20['GAME_ID']\n",
    "utah_adv_box_players = pd.DataFrame()\n",
    "\n",
    "for game_id in utah_game_id_2019_20:\n",
    "    boxscoreadvanced_finder = boxscoreadvancedv2.BoxScoreAdvancedV2(game_id=game_id)\n",
    "    boxscore_advanced = boxscoreadvanced_finder.player_stats.get_data_frame()\n",
    "    utah_adv_box_players = utah_adv_box_players.append(boxscore_advanced[boxscore_advanced.TEAM_ID==utah_id])"
   ]
  },
  {
   "cell_type": "code",
   "execution_count": null,
   "metadata": {},
   "outputs": [],
   "source": [
    "utah_adv_box_players.to_csv('utah_adv_box_players_2019_20.csv')"
   ]
  },
  {
   "cell_type": "code",
   "execution_count": null,
   "metadata": {},
   "outputs": [],
   "source": [
    "utah_adv_box_players = pd.read_csv('utah_adv_box_players_2019_20.csv')"
   ]
  },
  {
   "cell_type": "markdown",
   "metadata": {},
   "source": [
    "### Import Utah Jazz team avanced boxscore stats, Season 2019-20"
   ]
  },
  {
   "cell_type": "code",
   "execution_count": null,
   "metadata": {
    "scrolled": true
   },
   "outputs": [],
   "source": [
    "utah_adv_box_team = pd.DataFrame()\n",
    "\n",
    "for game_id in utah_game_id_2019_20:\n",
    "    boxscoreadvanced_finder = boxscoreadvancedv2.BoxScoreAdvancedV2(game_id=game_id)\n",
    "    boxscore_advanced_team = boxscoreadvanced_finder.team_stats.get_data_frame()\n",
    "    utah_adv_box_team = utah_adv_box_team.append(boxscore_advanced_team[boxscore_advanced_team.TEAM_ID==utah_id])    \n",
    "\n",
    "utah_adv_box_team"
   ]
  },
  {
   "cell_type": "code",
   "execution_count": null,
   "metadata": {},
   "outputs": [],
   "source": [
    "utah_adv_box_team.to_csv('utah_adv_box_team_2019_20.csv')"
   ]
  },
  {
   "cell_type": "code",
   "execution_count": null,
   "metadata": {},
   "outputs": [],
   "source": [
    "utah_adv_box_team = pd.read_csv('utah_adv_box_team_2019_20.csv')"
   ]
  },
  {
   "cell_type": "markdown",
   "metadata": {},
   "source": [
    "### Merge Utah Jazz team traditional and advanced box score Season 2019-20, drop repeated feasutres, keep import features"
   ]
  },
  {
   "cell_type": "code",
   "execution_count": null,
   "metadata": {},
   "outputs": [],
   "source": [
    "utah_overall_box_2019_20 = pd.merge(utah_box_team_2019_20, utah_adv_box_team_2019_20, on='GAME_ID', how='left')\n",
    "\n",
    "features = ['SEASON_YEAR', 'TEAM_ID_x', 'TEAM_ABBREVIATION_x', 'TEAM_NAME_x', \\\n",
    "           'GAME_ID', 'GAME_DATE', 'MATCHUP', 'WL', 'MIN_x', \\\n",
    "           'FGM', 'FGA', 'FG_PCT', 'FG3M', 'FG3A', 'FG3_PCT', 'FTM', 'FTA', 'FT_PCT',\\\n",
    "           'OREB', 'DREB', 'REB', 'AST', 'TOV', 'STL', 'BLK', 'PF', 'PTS', 'PLUS_MINUS',\\\n",
    "            'E_OFF_RATING', 'OFF_RATING', 'E_DEF_RATING', 'DEF_RATING', 'E_NET_RATING', 'NET_RATING', \\\n",
    "            'AST_PCT', 'AST_TOV', 'AST_RATIO', 'OREB_PCT', 'DREB_PCT', 'REB_PCT', \\\n",
    "            'E_TM_TOV_PCT', 'TM_TOV_PCT', 'EFG_PCT', 'TS_PCT', 'USG_PCT', 'E_USG_PCT', \\\n",
    "            'E_PACE', 'PACE', 'PACE_PER40', 'POSS', 'PIE']\n",
    "\n",
    "utah_overall_box_2019_20 = utah_overall_box_2019_20[features]\n",
    "# utah_overall_box_2019_20.to_csv('utah_overall_box_2019_20.csv')"
   ]
  },
  {
   "cell_type": "markdown",
   "metadata": {},
   "source": [
    "### Import all NBA team avanced boxscore stats, Season 2019-20"
   ]
  },
  {
   "cell_type": "code",
   "execution_count": null,
   "metadata": {
    "scrolled": true
   },
   "outputs": [],
   "source": [
    "allteam_game_id_2019_20 = allteam_gamelog_2019_20['GAME_ID'].unique()\n",
    "\n",
    "allteam_adv_box_team = pd.DataFrame()\n",
    "\n",
    "for game_id in allteam_game_id_2019_20:\n",
    "    boxscoreadvanced_finder = boxscoreadvancedv2.BoxScoreAdvancedV2(game_id=game_id)\n",
    "    boxscore_advanced_team = boxscoreadvanced_finder.team_stats.get_data_frame()\n",
    "    allteam_adv_box_team = allteam_adv_box_team.append(boxscore_advanced_team)    \n",
    "\n",
    "allteam_adv_box_team.shape"
   ]
  },
  {
   "cell_type": "code",
   "execution_count": null,
   "metadata": {},
   "outputs": [],
   "source": [
    "allteam_adv_box_team.to_csv('allteam_adv_box_team_2019_20.csv')"
   ]
  },
  {
   "cell_type": "code",
   "execution_count": null,
   "metadata": {},
   "outputs": [],
   "source": [
    "allteam_adv_box_team = pd.read_csv('allteam_adv_box_team_2019_20.csv')"
   ]
  },
  {
   "cell_type": "markdown",
   "metadata": {},
   "source": [
    "### Import all NBA team scoring boxscore stats, Season 2019-20"
   ]
  },
  {
   "cell_type": "code",
   "execution_count": 20,
   "metadata": {
    "scrolled": true
   },
   "outputs": [],
   "source": [
    "from nba_api.stats.endpoints import boxscorescoringv2\n",
    " \n",
    "allteam_game_id_2019_20 = allteam_gamelog_2019_20['GAME_ID'].unique()\n",
    "\n",
    "allteam_scoring_box_team = pd.DataFrame()\n",
    "\n",
    "for game_id in allteam_game_id_2019_20:\n",
    "    boxscorescoring_finder = boxscorescoringv2.BoxScoreScoringV2(game_id=game_id)\n",
    "    boxscore_scoring_team = boxscorescoring_finder.sql_teams_scoring.get_data_frame()\n",
    "    allteam_scoring_box_team = allteam_scoring_box_team.append(boxscore_scoring_team)  "
   ]
  },
  {
   "cell_type": "code",
   "execution_count": 21,
   "metadata": {},
   "outputs": [],
   "source": [
    "allteam_scoring_box_team.to_csv('allteam_scoring_box_team_2019_20.csv')"
   ]
  },
  {
   "cell_type": "code",
   "execution_count": 27,
   "metadata": {},
   "outputs": [
    {
     "data": {
      "text/html": [
       "<div>\n",
       "<style scoped>\n",
       "    .dataframe tbody tr th:only-of-type {\n",
       "        vertical-align: middle;\n",
       "    }\n",
       "\n",
       "    .dataframe tbody tr th {\n",
       "        vertical-align: top;\n",
       "    }\n",
       "\n",
       "    .dataframe thead th {\n",
       "        text-align: right;\n",
       "    }\n",
       "</style>\n",
       "<table border=\"1\" class=\"dataframe\">\n",
       "  <thead>\n",
       "    <tr style=\"text-align: right;\">\n",
       "      <th></th>\n",
       "      <th>Unnamed: 0</th>\n",
       "      <th>GAME_ID</th>\n",
       "      <th>TEAM_ID</th>\n",
       "      <th>TEAM_NAME</th>\n",
       "      <th>TEAM_ABBREVIATION</th>\n",
       "      <th>TEAM_CITY</th>\n",
       "      <th>MIN</th>\n",
       "      <th>PCT_FGA_2PT</th>\n",
       "      <th>PCT_FGA_3PT</th>\n",
       "      <th>PCT_PTS_2PT</th>\n",
       "      <th>...</th>\n",
       "      <th>PCT_PTS_FB</th>\n",
       "      <th>PCT_PTS_FT</th>\n",
       "      <th>PCT_PTS_OFF_TOV</th>\n",
       "      <th>PCT_PTS_PAINT</th>\n",
       "      <th>PCT_AST_2PM</th>\n",
       "      <th>PCT_UAST_2PM</th>\n",
       "      <th>PCT_AST_3PM</th>\n",
       "      <th>PCT_UAST_3PM</th>\n",
       "      <th>PCT_AST_FGM</th>\n",
       "      <th>PCT_UAST_FGM</th>\n",
       "    </tr>\n",
       "  </thead>\n",
       "  <tbody>\n",
       "    <tr>\n",
       "      <td>0</td>\n",
       "      <td>0</td>\n",
       "      <td>0021900821</td>\n",
       "      <td>1610612748</td>\n",
       "      <td>Heat</td>\n",
       "      <td>MIA</td>\n",
       "      <td>Miami</td>\n",
       "      <td>240:00</td>\n",
       "      <td>0.622</td>\n",
       "      <td>0.378</td>\n",
       "      <td>0.468</td>\n",
       "      <td>...</td>\n",
       "      <td>0.129</td>\n",
       "      <td>0.266</td>\n",
       "      <td>0.161</td>\n",
       "      <td>0.387</td>\n",
       "      <td>0.586</td>\n",
       "      <td>0.414</td>\n",
       "      <td>1.000</td>\n",
       "      <td>0.000</td>\n",
       "      <td>0.700</td>\n",
       "      <td>0.300</td>\n",
       "    </tr>\n",
       "    <tr>\n",
       "      <td>1</td>\n",
       "      <td>1</td>\n",
       "      <td>0021900821</td>\n",
       "      <td>1610612737</td>\n",
       "      <td>Hawks</td>\n",
       "      <td>ATL</td>\n",
       "      <td>Atlanta</td>\n",
       "      <td>240:00</td>\n",
       "      <td>0.588</td>\n",
       "      <td>0.412</td>\n",
       "      <td>0.388</td>\n",
       "      <td>...</td>\n",
       "      <td>0.085</td>\n",
       "      <td>0.240</td>\n",
       "      <td>0.155</td>\n",
       "      <td>0.357</td>\n",
       "      <td>0.520</td>\n",
       "      <td>0.480</td>\n",
       "      <td>0.563</td>\n",
       "      <td>0.438</td>\n",
       "      <td>0.537</td>\n",
       "      <td>0.463</td>\n",
       "    </tr>\n",
       "    <tr>\n",
       "      <td>2</td>\n",
       "      <td>0</td>\n",
       "      <td>0021900807</td>\n",
       "      <td>1610612739</td>\n",
       "      <td>Cavaliers</td>\n",
       "      <td>CLE</td>\n",
       "      <td>Cleveland</td>\n",
       "      <td>240:00</td>\n",
       "      <td>0.702</td>\n",
       "      <td>0.298</td>\n",
       "      <td>0.598</td>\n",
       "      <td>...</td>\n",
       "      <td>0.079</td>\n",
       "      <td>0.165</td>\n",
       "      <td>0.189</td>\n",
       "      <td>0.535</td>\n",
       "      <td>0.421</td>\n",
       "      <td>0.579</td>\n",
       "      <td>0.900</td>\n",
       "      <td>0.100</td>\n",
       "      <td>0.521</td>\n",
       "      <td>0.479</td>\n",
       "    </tr>\n",
       "    <tr>\n",
       "      <td>3</td>\n",
       "      <td>1</td>\n",
       "      <td>0021900807</td>\n",
       "      <td>1610612737</td>\n",
       "      <td>Hawks</td>\n",
       "      <td>ATL</td>\n",
       "      <td>Atlanta</td>\n",
       "      <td>240:00</td>\n",
       "      <td>0.595</td>\n",
       "      <td>0.405</td>\n",
       "      <td>0.438</td>\n",
       "      <td>...</td>\n",
       "      <td>0.114</td>\n",
       "      <td>0.190</td>\n",
       "      <td>0.190</td>\n",
       "      <td>0.419</td>\n",
       "      <td>0.565</td>\n",
       "      <td>0.435</td>\n",
       "      <td>0.846</td>\n",
       "      <td>0.154</td>\n",
       "      <td>0.667</td>\n",
       "      <td>0.333</td>\n",
       "    </tr>\n",
       "    <tr>\n",
       "      <td>4</td>\n",
       "      <td>0</td>\n",
       "      <td>0021900795</td>\n",
       "      <td>1610612753</td>\n",
       "      <td>Magic</td>\n",
       "      <td>ORL</td>\n",
       "      <td>Orlando</td>\n",
       "      <td>240:00</td>\n",
       "      <td>0.600</td>\n",
       "      <td>0.400</td>\n",
       "      <td>0.474</td>\n",
       "      <td>...</td>\n",
       "      <td>0.126</td>\n",
       "      <td>0.126</td>\n",
       "      <td>0.133</td>\n",
       "      <td>0.444</td>\n",
       "      <td>0.469</td>\n",
       "      <td>0.531</td>\n",
       "      <td>1.000</td>\n",
       "      <td>0.000</td>\n",
       "      <td>0.660</td>\n",
       "      <td>0.340</td>\n",
       "    </tr>\n",
       "  </tbody>\n",
       "</table>\n",
       "<p>5 rows × 22 columns</p>\n",
       "</div>"
      ],
      "text/plain": [
       "   Unnamed: 0     GAME_ID     TEAM_ID  TEAM_NAME TEAM_ABBREVIATION  TEAM_CITY  \\\n",
       "0           0  0021900821  1610612748       Heat               MIA      Miami   \n",
       "1           1  0021900821  1610612737      Hawks               ATL    Atlanta   \n",
       "2           0  0021900807  1610612739  Cavaliers               CLE  Cleveland   \n",
       "3           1  0021900807  1610612737      Hawks               ATL    Atlanta   \n",
       "4           0  0021900795  1610612753      Magic               ORL    Orlando   \n",
       "\n",
       "      MIN  PCT_FGA_2PT  PCT_FGA_3PT  PCT_PTS_2PT  ...  PCT_PTS_FB  PCT_PTS_FT  \\\n",
       "0  240:00        0.622        0.378        0.468  ...       0.129       0.266   \n",
       "1  240:00        0.588        0.412        0.388  ...       0.085       0.240   \n",
       "2  240:00        0.702        0.298        0.598  ...       0.079       0.165   \n",
       "3  240:00        0.595        0.405        0.438  ...       0.114       0.190   \n",
       "4  240:00        0.600        0.400        0.474  ...       0.126       0.126   \n",
       "\n",
       "   PCT_PTS_OFF_TOV  PCT_PTS_PAINT  PCT_AST_2PM  PCT_UAST_2PM  PCT_AST_3PM  \\\n",
       "0            0.161          0.387        0.586         0.414        1.000   \n",
       "1            0.155          0.357        0.520         0.480        0.563   \n",
       "2            0.189          0.535        0.421         0.579        0.900   \n",
       "3            0.190          0.419        0.565         0.435        0.846   \n",
       "4            0.133          0.444        0.469         0.531        1.000   \n",
       "\n",
       "   PCT_UAST_3PM  PCT_AST_FGM  PCT_UAST_FGM  \n",
       "0         0.000        0.700         0.300  \n",
       "1         0.438        0.537         0.463  \n",
       "2         0.100        0.521         0.479  \n",
       "3         0.154        0.667         0.333  \n",
       "4         0.000        0.660         0.340  \n",
       "\n",
       "[5 rows x 22 columns]"
      ]
     },
     "execution_count": 27,
     "metadata": {},
     "output_type": "execute_result"
    }
   ],
   "source": [
    "allteam_scoring_box_team = pd.read_csv('allteam_scoring_box_team_2019_20.csv',converters={'GAME_ID': str})\n",
    "allteam_scoring_box_team.head()"
   ]
  },
  {
   "cell_type": "markdown",
   "metadata": {},
   "source": [
    "### Merge all NBA team traditional and advanced box score Season 2019-20, drop repeated feasutres, keep import features"
   ]
  },
  {
   "cell_type": "code",
   "execution_count": null,
   "metadata": {},
   "outputs": [],
   "source": [
    "allteam_overall_box_2019_20 = pd.merge(allteam_gamelog_2019_20, allteam_adv_box_team, \\\n",
    "                                       left_on=['GAME_ID', 'TEAM_ID', 'TEAM_ABBREVIATION'],\\\n",
    "                                       right_on=['GAME_ID', 'TEAM_ID', 'TEAM_ABBREVIATION'],how='inner')\n",
    "\n",
    "features = ['SEASON_YEAR', 'TEAM_ID', 'TEAM_ABBREVIATION', 'TEAM_NAME_x', \\\n",
    "           'GAME_ID', 'GAME_DATE', 'MATCHUP', 'WL', 'MIN_x', \\\n",
    "           'FGM', 'FGA', 'FG_PCT', 'FG3M', 'FG3A', 'FG3_PCT', 'FTM', 'FTA', 'FT_PCT',\\\n",
    "           'OREB', 'DREB', 'REB', 'AST', 'TOV', 'STL', 'BLK', 'PF', 'PTS', 'PLUS_MINUS',\\\n",
    "            'E_OFF_RATING', 'OFF_RATING', 'E_DEF_RATING', 'DEF_RATING', 'E_NET_RATING', 'NET_RATING', \\\n",
    "            'AST_PCT', 'AST_TOV', 'AST_RATIO', 'OREB_PCT', 'DREB_PCT', 'REB_PCT', \\\n",
    "            'E_TM_TOV_PCT', 'TM_TOV_PCT', 'EFG_PCT', 'TS_PCT', 'USG_PCT', 'E_USG_PCT', \\\n",
    "            'E_PACE', 'PACE', 'PACE_PER40', 'POSS', 'PIE']\n",
    "\n",
    "allteam_overall_box_2019_20 = allteam_overall_box_2019_20[features]\n",
    "allteam_overall_box_2019_20.to_csv('allteam_overall_box_2019_20.csv')"
   ]
  },
  {
   "cell_type": "code",
   "execution_count": null,
   "metadata": {},
   "outputs": [],
   "source": [
    "allteam_overall_box_2019_20 = pd.read_csv('allteam_overall_box_2019_20.csv')"
   ]
  },
  {
   "cell_type": "markdown",
   "metadata": {},
   "source": [
    "### Read .csv files previously saved to reduce time downloading data from stats.nba.com"
   ]
  },
  {
   "cell_type": "code",
   "execution_count": null,
   "metadata": {},
   "outputs": [],
   "source": [
    "# Traditional box score of each game in season 2019-20\n",
    "utah_box_team_2019_20 = pd.read_csv('utah_gamelog_2019_20.csv')\n",
    "utah_box_players_2019_20 = pd.read_csv('utah_box_players_2019_20.csv')\n",
    "\n",
    "# Advanced box score of each game in season 2019-20\n",
    "utah_adv_box_players_2019_20 = pd.read_csv('utah_adv_box_players_2019_20.csv')\n",
    "utah_adv_box_team_2019_20 = pd.read_csv('utah_adv_box_team_2019_20.csv')\n",
    "\n",
    "# Merge team traditional and advanced box score, drop repeated feasutres, keep import features\n",
    "utah_overall_box_2019_20 = pd.merge(utah_box_team_2019_20, utah_adv_box_team_2019_20, on='GAME_ID', how='left')\n",
    "\n",
    "features = ['SEASON_YEAR', 'TEAM_ID_x', 'TEAM_ABBREVIATION_x', 'TEAM_NAME_x', \\\n",
    "           'GAME_ID', 'GAME_DATE', 'MATCHUP', 'WL', 'MIN_x', \\\n",
    "           'FGM', 'FGA', 'FG_PCT', 'FG3M', 'FG3A', 'FG3_PCT', 'FTM', 'FTA', 'FT_PCT',\\\n",
    "           'OREB', 'DREB', 'REB', 'AST', 'TOV', 'STL', 'BLK', 'PF', 'PTS', 'PLUS_MINUS',\\\n",
    "            'E_OFF_RATING', 'OFF_RATING', 'E_DEF_RATING', 'DEF_RATING', 'E_NET_RATING', 'NET_RATING', \\\n",
    "            'AST_PCT', 'AST_TOV', 'AST_RATIO', 'OREB_PCT', 'DREB_PCT', 'REB_PCT', \\\n",
    "            'E_TM_TOV_PCT', 'TM_TOV_PCT', 'EFG_PCT', 'TS_PCT', 'USG_PCT', 'E_USG_PCT', \\\n",
    "            'E_PACE', 'PACE', 'PACE_PER40', 'POSS', 'PIE']\n",
    "\n",
    "utah_overall_box_2019_20 = utah_overall_box_2019_20[features]\n",
    "# utah_overall_box_2019_20.to_csv('utah_overall_box_2019_20.csv')"
   ]
  },
  {
   "cell_type": "code",
   "execution_count": null,
   "metadata": {},
   "outputs": [],
   "source": [
    "utah_box_players_2019_20.groupby('PLAYER_ID')"
   ]
  },
  {
   "cell_type": "code",
   "execution_count": null,
   "metadata": {},
   "outputs": [],
   "source": [
    "sns.scatterplot(x='PACE', y='DEF_RATING', data=utah_overall_box_2019_20)"
   ]
  },
  {
   "cell_type": "code",
   "execution_count": null,
   "metadata": {},
   "outputs": [],
   "source": [
    "features = ['FGM', 'FGA', 'FG_PCT', 'FG3M', 'FG3A', 'FG3_PCT', 'FTM', 'FTA', 'FT_PCT',\\\n",
    "            'OREB', 'DREB', 'REB', 'AST', 'TOV', 'STL', 'BLK', 'PF', 'PTS', 'PLUS_MINUS',\\\n",
    "            'OFF_RATING', 'DEF_RATING', 'NET_RATING', \\\n",
    "            'AST_PCT', 'AST_TOV', 'AST_RATIO', 'OREB_PCT', 'DREB_PCT', 'REB_PCT', \\\n",
    "            'TM_TOV_PCT', 'EFG_PCT', 'TS_PCT', \\\n",
    "            'PACE', 'PACE_PER40', 'POSS', 'PIE']\n",
    "test = utah_overall_box_2019_20[features]\n",
    "\n",
    "# fig1,ax1 = plt.subplots(figsize=(15,15))\n",
    "# Heatmap of correlation efficients between features\n",
    "# ax1 = sns.heatmap(test.corr(), vmin=-1, vmax=1, center= 0, cmap= 'coolwarm')\n",
    "\n",
    "# Pairplot of of different features\n",
    "sns.pairplot(test, vars=['PTS', 'FGA', 'FG3A'], kind='reg')"
   ]
  },
  {
   "cell_type": "code",
   "execution_count": null,
   "metadata": {},
   "outputs": [],
   "source": [
    "test = allteam_overall_box_2019_20.groupby('TEAM_NAME_x').mean()\n",
    "\n",
    "# sns.scatterplot(x='PACE', y='FGA', data=test)\n",
    "sns.pairplot(test, vars=['PTS', 'FGA', 'FG3A'], kind='reg')"
   ]
  }
 ],
 "metadata": {
  "kernelspec": {
   "display_name": "Python 3",
   "language": "python",
   "name": "python3"
  },
  "language_info": {
   "codemirror_mode": {
    "name": "ipython",
    "version": 3
   },
   "file_extension": ".py",
   "mimetype": "text/x-python",
   "name": "python",
   "nbconvert_exporter": "python",
   "pygments_lexer": "ipython3",
   "version": "3.7.4"
  }
 },
 "nbformat": 4,
 "nbformat_minor": 4
}
